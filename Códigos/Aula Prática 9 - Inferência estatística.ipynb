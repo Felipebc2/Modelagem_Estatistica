{
 "cells": [
  {
   "cell_type": "markdown",
   "metadata": {},
   "source": [
    "# Inferência Estatística\n",
    "\n",
    "## Problemas motivadores\n",
    "\n",
    "1) De 50.000 válvulas fabricadas por uma companhia retira-se uma amostra de 400 válvulas e obtém-se a vida média de 800 horas e o desvio padrão de 100 horas. **(a)** qual o intervalo de confiança de 99% para a vida média da população? **(b)** Com que confiança poderia se dizer que a vida média é 800 $\\pm $ 0,98? **(c)** Que tamanho deve ter a amostra para que seja de 95% a confiança na estimativa 800 $\\pm $ 7,84?\n",
    "\n",
    "2) A medida dos diâmetros de uma amostra aleatória de 200 rolamentos esféricos, durante uma semana, apresentam média 0,824 polegadas e o desvio padrão 0,042 polegada. Determine os limites de confiança de **(a)** 95% **(b)** 99%\n",
    "\n",
    "3) Já sabemos que o problema do lançamento de uma moeda pode ser modelado pela Distribuição Binomial. Supondo o lançamento de uma moeda 50 vezes, suponha que tenha ocorrido 36 caras. Esse resultado permite dizer que a moeda é honesta? O que você faria para verificar esta afirmação?\n",
    "\n",
    "4) Para fins de estudos, duas turmas de uma determinada disciplina foram comparadas. A primeira turma com 40 alunos, nota média 7,4 e desvio padrão 0,8. A segunda turma com 50 alunos, nota média 7,8 e desvio padrão 0,7. Pergunta-se: há diferença significativa entre os aproveitamentos das duas classes, no nível de significância: **(a)** 0,05 (95%) **(b)** 0,01 (99%)."
   ]
  },
  {
   "cell_type": "code",
   "execution_count": 2,
   "metadata": {},
   "outputs": [],
   "source": [
    "import scipy.stats as stats"
   ]
  },
  {
   "cell_type": "code",
   "execution_count": 36,
   "metadata": {},
   "outputs": [
    {
     "name": "stdout",
     "output_type": "stream",
     "text": [
      "\n",
      "Intervalo de Confiança de 99% para a vida média da população:\n",
      "Intervalo Inferior: 787h\n",
      "Intervalo Superior: 813h\n",
      "\n"
     ]
    }
   ],
   "source": [
    "# Questão 1: A)\n",
    "\n",
    "sample = 400 # Tamanho da Amostra\n",
    "samp_mean = 800 # Média da Amostra\n",
    "desv = 100 # Desvio padrão da população\n",
    "\n",
    "z1 = stats.norm.ppf(0.995) #99% de confiança\n",
    "\n",
    "erro_padrao = desv / (sample ** 0.5)\n",
    "intervalo_inferior = samp_mean - z1 * erro_padrao\n",
    "intervalo_superior = samp_mean + z1 * erro_padrao\n",
    "\n",
    "print(\"\\nIntervalo de Confiança de 99% para a vida média da população:\")\n",
    "print(f\"Intervalo Inferior: {intervalo_inferior:.0f}h\")\n",
    "print(f\"Intervalo Superior: {intervalo_superior:.0f}h\\n\")"
   ]
  },
  {
   "cell_type": "code",
   "execution_count": 33,
   "metadata": {},
   "outputs": [
    {
     "name": "stdout",
     "output_type": "stream",
     "text": [
      "Com que confiança poderia se dizer que a vida média é 800 ± 0,98?\n",
      "Confiança: 10.25%\n"
     ]
    }
   ],
   "source": [
    "# Questão 1: B)\n",
    "\n",
    "erro = 0.98 # Erro Padrão\n",
    "\n",
    "# Desvio padrão da população\n",
    "desv_padr = (erro * (sample ** 0.5)) / stats.norm.ppf(0.995)\n",
    "\n",
    "# Confiança correspondente\n",
    "confianca = stats.norm.cdf((samp_mean + erro - samp_mean) / desv_padr) - stats.norm.cdf((samp_mean - erro - samp_mean) / desv_padr)\n",
    "\n",
    "print(\"Com que confiança poderia se dizer que a vida média é 800 ± 0,98?\")\n",
    "print(f\"Confiança: {confianca*100:.2f}%\")"
   ]
  },
  {
   "cell_type": "code",
   "execution_count": 35,
   "metadata": {},
   "outputs": [
    {
     "name": "stdout",
     "output_type": "stream",
     "text": [
      "Tamanho da amostra necessário para 95% de confiança na estimativa 800 ± 7,84: 2500\n"
     ]
    }
   ],
   "source": [
    "# Questão 1: C)\n",
    "\n",
    "# Erro desejado\n",
    "erro_desejado = 7.84 / 2  # Metade do comprimento do intervalo de confiança desejado\n",
    "\n",
    "z2 = stats.norm.ppf(0.975)  # 0.975 para incluir 95% da área total (2,5% de cada lado)\n",
    "\n",
    "# Calculando o tamanho da amostra necessário\n",
    "tamanho_amostra = ((z2 * desv) / erro_desejado) ** 2\n",
    "\n",
    "print(\"Tamanho da amostra necessário para 95% de confiança na estimativa 800 ± 7,84:\", round(tamanho_amostra))"
   ]
  },
  {
   "cell_type": "code",
   "execution_count": 7,
   "metadata": {},
   "outputs": [
    {
     "name": "stdout",
     "output_type": "stream",
     "text": [
      "Intervalo de confiança de 95%: (0.8182, 0.8298)\n",
      "Intervalo de confiança de 99%: (0.8164, 0.8316)\n"
     ]
    }
   ],
   "source": [
    "# Questão 2\n",
    "\n",
    "# Dados\n",
    "sample2 = 200  # Tamanho da amostra\n",
    "samp_mean2 = 0.824  # Média da amostra\n",
    "desv2 = 0.042  # Desvio padrão da população\n",
    "\n",
    "# Nível de confiança\n",
    "confianca_95 = 0.95\n",
    "confianca_99 = 0.99\n",
    "\n",
    "# Calculando os limites de confiança para 95%\n",
    "lim_inf_95 = samp_mean2 - stats.norm.ppf(1 - (1 - confianca_95) / 2) * (desv2 / (sample2 ** 0.5))\n",
    "lim_sup_95 = samp_mean2 + stats.norm.ppf(1 - (1 - confianca_95) / 2) * (desv2 / (sample2 ** 0.5))\n",
    "\n",
    "# Calculando os limites de confiança para 99%\n",
    "lim_inf_99 = samp_mean2 - stats.norm.ppf(1 - (1 - confianca_99) / 2) * (desv2 / (sample2 ** 0.5))\n",
    "lim_sup_99 = samp_mean2 + stats.norm.ppf(1 - (1 - confianca_99) / 2) * (desv2 / (sample2 ** 0.5))\n",
    "\n",
    "# Exibindo os resultados\n",
    "print(f\"Intervalo de confiança de 95%: ({lim_inf_95:.4f}, {lim_sup_95:.4f})\")\n",
    "print(f\"Intervalo de confiança de 99%: ({lim_inf_99:.4f}, {lim_sup_99:.4f})\")\n"
   ]
  },
  {
   "cell_type": "code",
   "execution_count": 16,
   "metadata": {},
   "outputs": [
    {
     "name": "stdout",
     "output_type": "stream",
     "text": [
      "Rejeitamos a hipótese nula. A moeda não é honesta.\n"
     ]
    }
   ],
   "source": [
    "# Questão 3:\n",
    "from scipy.stats import binom\n",
    "\n",
    "# Dados\n",
    "throws = 50\n",
    "heads = 36\n",
    "prob = 0.5\n",
    "\n",
    "prob_acumulada = 1 - binom.cdf(heads - 1, throws, prob)\n",
    "\n",
    "alpha = 0.05\n",
    "if prob_acumulada < alpha:\n",
    "    print(\"Rejeitamos a hipótese nula. A moeda não é honesta.\")\n",
    "else:\n",
    "    print(\"Não temos evidências suficientes para rejeitar a hipótese nula. A moeda é honesta.\")\n",
    "\n",
    "# Resolução: Usando um teste de proporção, se o valor p for menor que o nível de significância (por exemplo, alpha = 0.05), rejeitamos \n",
    "# a hipótese nula de que a moeda é honesta, concluindo que não é. Caso contrário, não há evidências suficientes para afirmar que a moeda \n",
    "# não é honesta, sugerindo que ela pode ser considerada honesta."
   ]
  },
  {
   "cell_type": "code",
   "execution_count": 18,
   "metadata": {},
   "outputs": [
    {
     "name": "stdout",
     "output_type": "stream",
     "text": [
      "Para o nível de significância de 0,05 (95%), rejeitamos a hipótese nula. Há diferença significativa entre os aproveitamentos das duas turmas.\n",
      "Para o nível de significância de 0,01 (99%), rejeitamos a hipótese nula. Há diferença significativa entre os aproveitamentos das duas turmas.\n"
     ]
    },
    {
     "name": "stderr",
     "output_type": "stream",
     "text": [
      "C:\\Users\\Felipe\\anaconda3\\Lib\\site-packages\\scipy\\stats\\_axis_nan_policy.py:523: RuntimeWarning: Precision loss occurred in moment calculation due to catastrophic cancellation. This occurs when the data are nearly identical. Results may be unreliable.\n",
      "  res = hypotest_fun_out(*samples, **kwds)\n"
     ]
    }
   ],
   "source": [
    "# Questão 4\n",
    "\n",
    "from scipy.stats import ttest_ind\n",
    "\n",
    "# Dados da primeira turma\n",
    "n1 = 40\n",
    "media1 = 7.4\n",
    "desv_padr1 = 0.8\n",
    "\n",
    "# Dados da segunda turma\n",
    "n2 = 50\n",
    "media2 = 7.8\n",
    "desvio_padr2 = 0.7\n",
    "\n",
    "# Teste de hipóteses\n",
    "valor_p = ttest_ind(\n",
    "    [media1] * n1,\n",
    "    [media2] * n2,\n",
    "    equal_var=False  # Assume variâncias diferentes entre as turmas\n",
    ").pvalue\n",
    "\n",
    "# Comparando com os níveis de significância\n",
    "alpha_a = 0.05\n",
    "alpha_b = 0.01\n",
    "\n",
    "if valor_p < alpha_a:\n",
    "    print(\"Para o nível de significância de 0,05 (95%), rejeitamos a hipótese nula. Há diferença significativa entre os aproveitamentos das duas turmas.\")\n",
    "else:\n",
    "    print(\"Para o nível de significância de 0,05 (95%), não rejeitamos a hipótese nula. Não há diferença significativa entre os aproveitamentos das duas turmas.\")\n",
    "\n",
    "if valor_p < alpha_b:\n",
    "    print(\"Para o nível de significância de 0,01 (99%), rejeitamos a hipótese nula. Há diferença significativa entre os aproveitamentos das duas turmas.\")\n",
    "else:\n",
    "    print(\"Para o nível de significância de 0,01 (99%), não rejeitamos a hipótese nula. Não há diferença significativa entre os aproveitamentos das duas turmas.\")\n"
   ]
  },
  {
   "cell_type": "code",
   "execution_count": null,
   "metadata": {},
   "outputs": [],
   "source": []
  }
 ],
 "metadata": {
  "kernelspec": {
   "display_name": "Python 3 (ipykernel)",
   "language": "python",
   "name": "python3"
  },
  "language_info": {
   "codemirror_mode": {
    "name": "ipython",
    "version": 3
   },
   "file_extension": ".py",
   "mimetype": "text/x-python",
   "name": "python",
   "nbconvert_exporter": "python",
   "pygments_lexer": "ipython3",
   "version": "3.11.7"
  }
 },
 "nbformat": 4,
 "nbformat_minor": 4
}
