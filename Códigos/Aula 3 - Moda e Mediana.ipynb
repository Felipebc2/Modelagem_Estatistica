{
 "cells": [
  {
   "cell_type": "code",
   "execution_count": 21,
   "id": "0060ff9e-9625-4bc9-b162-4972fe533982",
   "metadata": {},
   "outputs": [
    {
     "name": "stdout",
     "output_type": "stream",
     "text": [
      "\n",
      "Média grupo A:  5\n",
      "Mediana grupo A:  5\n",
      "Moda grupo A:  3\n",
      "\n",
      "Média grupo B:  5\n",
      "Mediana grupo B:  5\n",
      "Moda grupo B:  1\n",
      "\n",
      "Média grupo C:  5\n",
      "Mediana grupo C:  5\n",
      "Moda grupo C:  5\n",
      "\n",
      "Média grupo D:  5\n",
      "Mediana grupo D:  5\n",
      "Moda grupo D:  5\n",
      "\n",
      "Média grupo E:  5\n",
      "Mediana grupo E:  5\n",
      "Moda grupo E:  5\n"
     ]
    }
   ],
   "source": [
    "# Import statistics Library\n",
    "import statistics\n",
    "import pandas as pd\n",
    "\n",
    "# Var\n",
    "grupoA = ([3, 4, 5, 6, 7])\n",
    "grupoB = ([1, 3, 5, 7, 9])\n",
    "grupoC = ([5, 5, 5, 5, 5])\n",
    "grupoD = ([3, 5, 5, 5, 7])\n",
    "grupoE = ([3, 5, 5, 6, 6])\n",
    "\n",
    "print(\"\\nMédia grupo A: \", statistics.mean([3, 4, 5, 6, 7]))\n",
    "print(\"Mediana grupo A: \", statistics.median([3, 4, 5, 6, 7]))\n",
    "print(\"Moda grupo A: \", statistics.mode([3, 4, 5, 6, 7]))\n",
    "\n",
    "print(\"\\nMédia grupo B: \", statistics.mean([1, 3, 5, 7, 9]))\n",
    "print(\"Mediana grupo B: \", statistics.median([1, 3, 5, 7, 9]))\n",
    "print(\"Moda grupo B: \", statistics.mode([1, 3, 5, 7, 9]))\n",
    "\n",
    "print(\"\\nMédia grupo C: \", statistics.mean([5, 5, 5, 5, 5]))\n",
    "print(\"Mediana grupo C: \", statistics.median([5, 5, 5, 5, 5]))\n",
    "print(\"Moda grupo C: \", statistics.mode([5, 5, 5, 5, 5]))\n",
    "\n",
    "print(\"\\nMédia grupo D: \", statistics.mean([3, 5, 5, 5, 7]))\n",
    "print(\"Mediana grupo D: \", statistics.median([3, 5, 5, 5, 7]))\n",
    "print(\"Moda grupo D: \", statistics.mode([3, 5, 5, 5, 7]))\n",
    "\n",
    "print(\"\\nMédia grupo E: \", statistics.mean([3, 5, 5, 6, 6]))\n",
    "print(\"Mediana grupo E: \", statistics.median([3, 5, 5, 6, 6]))\n",
    "print(\"Moda grupo E: \", statistics.mode([3, 5, 5, 6, 6]))\n"
   ]
  },
  {
   "cell_type": "code",
   "execution_count": null,
   "id": "68320fc2-0f13-4cb2-a9aa-26d075619a24",
   "metadata": {},
   "outputs": [],
   "source": []
  }
 ],
 "metadata": {
  "kernelspec": {
   "display_name": "Python 3 (ipykernel)",
   "language": "python",
   "name": "python3"
  },
  "language_info": {
   "codemirror_mode": {
    "name": "ipython",
    "version": 3
   },
   "file_extension": ".py",
   "mimetype": "text/x-python",
   "name": "python",
   "nbconvert_exporter": "python",
   "pygments_lexer": "ipython3",
   "version": "3.11.7"
  }
 },
 "nbformat": 4,
 "nbformat_minor": 5
}
