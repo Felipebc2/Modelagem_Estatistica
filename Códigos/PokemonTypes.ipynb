{
 "cells": [
  {
   "cell_type": "code",
   "execution_count": 1,
   "id": "f9985a42-f6d0-43fd-b381-271c054b226a",
   "metadata": {},
   "outputs": [
    {
     "name": "stdout",
     "output_type": "stream",
     "text": [
      "Weaknesses: ['Water', 'Electric', 'Rock']\n",
      "Resistances: ['Bug', 'Steel', 'Fairy', 'Fighting', 'Fire', 'Grass']\n",
      "Immunities: ['Ground']\n"
     ]
    }
   ],
   "source": [
    "# Define the type chart with weaknesses and resistances\n",
    "type_chart = {\n",
    "    'Normal':    {'weaknesses': ['Fighting'], 'resistances': [], 'immunities': ['Ghost']},\n",
    "    'Fire':      {'weaknesses': ['Water', 'Ground', 'Rock'], 'resistances': ['Fire', 'Grass', 'Ice', 'Bug', 'Steel', 'Fairy'], 'immunities': []},\n",
    "    'Water':     {'weaknesses': ['Electric', 'Grass'], 'resistances': ['Fire', 'Water', 'Ice', 'Steel'], 'immunities': []},\n",
    "    'Electric':  {'weaknesses': ['Ground'], 'resistances': ['Electric', 'Flying', 'Steel'], 'immunities': []},\n",
    "    'Grass':     {'weaknesses': ['Fire', 'Ice', 'Poison', 'Flying', 'Bug'], 'resistances': ['Water', 'Electric', 'Grass', 'Ground'], 'immunities': []},\n",
    "    'Ice':       {'weaknesses': ['Fire', 'Fighting', 'Rock', 'Steel'], 'resistances': ['Ice'], 'immunities': []},\n",
    "    'Fighting':  {'weaknesses': ['Flying', 'Psychic', 'Fairy'], 'resistances': ['Bug', 'Rock', 'Dark'], 'immunities': []},\n",
    "    'Poison':    {'weaknesses': ['Ground', 'Psychic'], 'resistances': ['Grass', 'Fighting', 'Poison', 'Bug', 'Fairy'], 'immunities': []},\n",
    "    'Ground':    {'weaknesses': ['Water', 'Ice', 'Grass'], 'resistances': ['Poison', 'Rock'], 'immunities': ['Electric']},\n",
    "    'Flying':    {'weaknesses': ['Electric', 'Ice', 'Rock'], 'resistances': ['Grass', 'Fighting', 'Bug'], 'immunities': ['Ground']},\n",
    "    'Psychic':   {'weaknesses': ['Bug', 'Ghost', 'Dark'], 'resistances': ['Fighting', 'Psychic'], 'immunities': []},\n",
    "    'Bug':       {'weaknesses': ['Fire', 'Flying', 'Rock'], 'resistances': ['Grass', 'Fighting', 'Ground'], 'immunities': []},\n",
    "    'Rock':      {'weaknesses': ['Water', 'Grass', 'Fighting', 'Ground', 'Steel'], 'resistances': ['Normal', 'Fire', 'Poison', 'Flying'], 'immunities': []},\n",
    "    'Ghost':     {'weaknesses': ['Ghost', 'Dark'], 'resistances': ['Poison', 'Bug'], 'immunities': ['Normal', 'Fighting']},\n",
    "    'Dragon':    {'weaknesses': ['Ice', 'Dragon', 'Fairy'], 'resistances': ['Fire', 'Water', 'Electric', 'Grass'], 'immunities': []},\n",
    "    'Dark':      {'weaknesses': ['Fighting', 'Bug', 'Fairy'], 'resistances': ['Ghost', 'Dark'], 'immunities': ['Psychic']},\n",
    "    'Steel':     {'weaknesses': ['Fire', 'Fighting', 'Ground'], 'resistances': ['Normal', 'Grass', 'Ice', 'Flying', 'Psychic', 'Bug', 'Rock', 'Dragon', 'Steel', 'Fairy'], 'immunities': ['Poison']},\n",
    "    'Fairy':     {'weaknesses': ['Poison', 'Steel'], 'resistances': ['Fighting', 'Bug', 'Dark'], 'immunities': ['Dragon']}\n",
    "}\n",
    "\n",
    "def calculate_weaknesses_and_resistances(type1, type2=None):\n",
    "    # Initialize weakness, resistance, and immunity lists\n",
    "    weaknesses = set(type_chart[type1]['weaknesses'])\n",
    "    resistances = set(type_chart[type1]['resistances'])\n",
    "    immunities = set(type_chart[type1]['immunities'])\n",
    "\n",
    "    if type2:\n",
    "        # Add type2's weaknesses, resistances, and immunities\n",
    "        weaknesses.update(type_chart[type2]['weaknesses'])\n",
    "        resistances.update(type_chart[type2]['resistances'])\n",
    "        immunities.update(type_chart[type2]['immunities'])\n",
    "\n",
    "    # Adjust weaknesses and resistances based on immunities\n",
    "    weaknesses.difference_update(immunities)\n",
    "    resistances.difference_update(immunities)\n",
    "\n",
    "    # Final adjustment: if a type is both a weakness and a resistance, it's neutralized\n",
    "    neutral_types = weaknesses & resistances\n",
    "    weaknesses.difference_update(neutral_types)\n",
    "    resistances.difference_update(neutral_types)\n",
    "\n",
    "    return list(weaknesses), list(resistances), list(immunities)\n",
    "\n",
    "# Exemplo de uso:\n",
    "type1 = \"Fire\"\n",
    "type2 = \"Flying\"\n",
    "\n",
    "weaknesses, resistances, immunities = calculate_weaknesses_and_resistances(type1, type2)\n",
    "\n",
    "print(f\"Weaknesses: {weaknesses}\")\n",
    "print(f\"Resistances: {resistances}\")\n",
    "print(f\"Immunities: {immunities}\")\n"
   ]
  }
 ],
 "metadata": {
  "kernelspec": {
   "display_name": "Python 3 (ipykernel)",
   "language": "python",
   "name": "python3"
  },
  "language_info": {
   "codemirror_mode": {
    "name": "ipython",
    "version": 3
   },
   "file_extension": ".py",
   "mimetype": "text/x-python",
   "name": "python",
   "nbconvert_exporter": "python",
   "pygments_lexer": "ipython3",
   "version": "3.11.7"
  }
 },
 "nbformat": 4,
 "nbformat_minor": 5
}
