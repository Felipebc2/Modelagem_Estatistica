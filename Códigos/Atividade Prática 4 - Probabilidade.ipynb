{
 "cells": [
  {
   "cell_type": "markdown",
   "id": "ab81c07f",
   "metadata": {},
   "source": [
    "# Probabilidade\n",
    "\n",
    "## Distribuições de Probabilidade\n",
    "\n",
    "João e Maria estão jogando RPG, um jogo de imaginação em que as regras do mundo são ditadas por jogadas de dados. Para saber se um ataque foi bem sucedido, um dado de seis faces é jogado. Se o resultado for o número 1 ou 2, o ataque terá sido bem sucedido. O mesmo para calcular o dano, roda-se um dado e o valor será o dano causado pelo ataque bem sucedido. Podem-se utilizar mais de um dado em um ataque, por exemplo, 2 dados de 6 faces ou 1 dado de 12 faces.\n",
    "\n",
    "Maria acredita que jogadas que usam mais de um dado são superiores a jogadas de um dado com número de faces iguais ao número total de faces dos dois dados para causar dano. Se seu objetivo é causar o maior dano possível, com dois dados o dano mínimo é maior que com um dado. Por exemplo, sempre que ela precisar escolher um teste de dano, ela deveria escolher a opção com dois dados, pois o resultado mínimo será 2, enquanto com 1 dado de 12 faces, o valor mínimo é 1. Assim, em média, o dano causado por 2 dados de 6 faces é maior que o dano médio do dado de 12 faces.\n",
    "\n",
    "Não só isso, como ela acredita que a distribuição de frequência dos valores nesses casos será diferente e que para testes de probabilidade simples, como saber se um ataque foi bem sucedido, é melhor usar apenas um dado, e será mais justo, pois cada face tem a mesma probabilidade de ocorrência. \n",
    "\n",
    "João discorda e começa a jogar dados e conferir os resultados para checar as intuições e pensamento matemático de Maria.\n",
    "\n",
    "### Instruções\n",
    "\n",
    "Escreva um programa que simule a jogada de 10 mil dados e calcule o valor esperado para cadas uma das opções:\n",
    " - 1 dado de 12 faces\n",
    " - 2 dados de 6 faces\n",
    " \n",
    "Construa um gráfico de barras para cada opção com o número de vezes que cada face foi lançada.\n"
   ]
  },
  {
   "cell_type": "code",
   "execution_count": 1,
   "id": "91b7473f",
   "metadata": {},
   "outputs": [
    {
     "data": {
      "text/plain": [
       "3.5"
      ]
     },
     "execution_count": 1,
     "metadata": {},
     "output_type": "execute_result"
    }
   ],
   "source": [
    "# Média\n",
    "def media(eventos):\n",
    "    soma = 0\n",
    "    for evento in eventos:\n",
    "        soma = soma + evento\n",
    "    media = soma / len(eventos)\n",
    "    return media\n",
    "eventos_dado_6_faces = [1,2,3,4,5,6]\n",
    "media_dado_6_faces = media(eventos_dado_6_faces)\n",
    "media_dado_6_faces"
   ]
  },
  {
   "cell_type": "code",
   "execution_count": 2,
   "id": "8aec193f",
   "metadata": {},
   "outputs": [],
   "source": [
    "import numpy as np\n",
    "import pandas as pd"
   ]
  },
  {
   "cell_type": "code",
   "execution_count": 3,
   "id": "abadf5d9",
   "metadata": {},
   "outputs": [
    {
     "data": {
      "text/plain": [
       "array([1, 2, 3, 4, 5, 6])"
      ]
     },
     "execution_count": 3,
     "metadata": {},
     "output_type": "execute_result"
    }
   ],
   "source": [
    "np.mean(eventos_dado_6_faces)\n",
    "dado_6_np = np.array(eventos_dado_6_faces)\n",
    "dado_6_np"
   ]
  },
  {
   "cell_type": "code",
   "execution_count": 4,
   "id": "7b19b998",
   "metadata": {},
   "outputs": [
    {
     "data": {
      "text/plain": [
       "3.5"
      ]
     },
     "execution_count": 4,
     "metadata": {},
     "output_type": "execute_result"
    }
   ],
   "source": [
    "dado_6_np.mean()"
   ]
  },
  {
   "cell_type": "code",
   "execution_count": 5,
   "id": "f3672a89",
   "metadata": {},
   "outputs": [
    {
     "data": {
      "text/html": [
       "<div>\n",
       "<style scoped>\n",
       "    .dataframe tbody tr th:only-of-type {\n",
       "        vertical-align: middle;\n",
       "    }\n",
       "\n",
       "    .dataframe tbody tr th {\n",
       "        vertical-align: top;\n",
       "    }\n",
       "\n",
       "    .dataframe thead th {\n",
       "        text-align: right;\n",
       "    }\n",
       "</style>\n",
       "<table border=\"1\" class=\"dataframe\">\n",
       "  <thead>\n",
       "    <tr style=\"text-align: right;\">\n",
       "      <th></th>\n",
       "      <th>0</th>\n",
       "    </tr>\n",
       "  </thead>\n",
       "  <tbody>\n",
       "    <tr>\n",
       "      <th>0</th>\n",
       "      <td>1</td>\n",
       "    </tr>\n",
       "    <tr>\n",
       "      <th>1</th>\n",
       "      <td>2</td>\n",
       "    </tr>\n",
       "    <tr>\n",
       "      <th>2</th>\n",
       "      <td>3</td>\n",
       "    </tr>\n",
       "    <tr>\n",
       "      <th>3</th>\n",
       "      <td>4</td>\n",
       "    </tr>\n",
       "    <tr>\n",
       "      <th>4</th>\n",
       "      <td>5</td>\n",
       "    </tr>\n",
       "    <tr>\n",
       "      <th>5</th>\n",
       "      <td>6</td>\n",
       "    </tr>\n",
       "  </tbody>\n",
       "</table>\n",
       "</div>"
      ],
      "text/plain": [
       "   0\n",
       "0  1\n",
       "1  2\n",
       "2  3\n",
       "3  4\n",
       "4  5\n",
       "5  6"
      ]
     },
     "execution_count": 5,
     "metadata": {},
     "output_type": "execute_result"
    }
   ],
   "source": [
    "dado_6_df = pd.DataFrame(eventos_dado_6_faces)\n",
    "dado_6_df"
   ]
  },
  {
   "cell_type": "code",
   "execution_count": null,
   "id": "6c1c08bc",
   "metadata": {},
   "outputs": [],
   "source": [
    "dado_6_df.mean()"
   ]
  },
  {
   "cell_type": "code",
   "execution_count": 6,
   "id": "8482c3af",
   "metadata": {},
   "outputs": [],
   "source": [
    "from matplotlib import pyplot as plt\n",
    "from random import randint, choice"
   ]
  },
  {
   "cell_type": "code",
   "execution_count": 8,
   "id": "8f16afdb",
   "metadata": {},
   "outputs": [
    {
     "data": {
      "text/plain": [
       "6"
      ]
     },
     "execution_count": 8,
     "metadata": {},
     "output_type": "execute_result"
    }
   ],
   "source": [
    "randint(1,6)"
   ]
  },
  {
   "cell_type": "code",
   "execution_count": 10,
   "id": "9f4f376f",
   "metadata": {},
   "outputs": [
    {
     "data": {
      "text/plain": [
       "[0, 0, 0, 0, 0, 0]"
      ]
     },
     "execution_count": 10,
     "metadata": {},
     "output_type": "execute_result"
    }
   ],
   "source": [
    "resultados = [0, 0, 0, 0, 0, 0]\n",
    "resultados"
   ]
  },
  {
   "cell_type": "code",
   "execution_count": 12,
   "id": "cfffb18e",
   "metadata": {},
   "outputs": [
    {
     "data": {
      "text/plain": [
       "[0, 1, 1, 0, 0, 0]"
      ]
     },
     "execution_count": 12,
     "metadata": {},
     "output_type": "execute_result"
    }
   ],
   "source": [
    "resultado = randint(1,6)\n",
    "resultados[resultado -1] += 1     # += : é equivalente a fazer x = x + valor . Por exemplo, se x valer 10 e fizermos x += 2 , x passará a ter o valor 12\n",
    "resultados"
   ]
  },
  {
   "cell_type": "code",
   "execution_count": 13,
   "id": "fecfd488",
   "metadata": {},
   "outputs": [
    {
     "data": {
      "text/plain": [
       "3.5026"
      ]
     },
     "execution_count": 13,
     "metadata": {},
     "output_type": "execute_result"
    }
   ],
   "source": [
    "# Distribuição Uniforme\n",
    "## 1 dado de 6 faces\n",
    "resultados = [0, 0, 0, 0, 0, 0]\n",
    "jogadas = []\n",
    "for i in range(10000):\n",
    "    resultado = randint(1,6)\n",
    "    jogadas.append(resultado)\n",
    "    resultados[resultado -1] += 1\n",
    "resultados\n",
    "media(jogadas)"
   ]
  },
  {
   "cell_type": "code",
   "execution_count": 14,
   "id": "37034473",
   "metadata": {},
   "outputs": [
    {
     "data": {
      "image/png": "[encoded data removed]",
      "text/plain": [
       "<Figure size 640x480 with 1 Axes>"
      ]
     },
     "metadata": {},
     "output_type": "display_data"
    }
   ],
   "source": [
    "plt.bar([1,2,3,4,5,6],resultados)\n",
    "plt.show()"
   ]
  },
  {
   "cell_type": "code",
   "execution_count": null,
   "id": "c9a32053",
   "metadata": {},
   "outputs": [],
   "source": [
    "## 2 dado de 6 faces\n"
   ]
  },
  {
   "cell_type": "code",
   "execution_count": null,
   "id": "75c13475",
   "metadata": {},
   "outputs": [],
   "source": [
    "## 1 dado de 12 faces\n"
   ]
  },
  {
   "cell_type": "code",
   "execution_count": null,
   "id": "bed243c5",
   "metadata": {},
   "outputs": [],
   "source": []
  },
  {
   "cell_type": "code",
   "execution_count": null,
   "id": "54830b33",
   "metadata": {},
   "outputs": [],
   "source": []
  },
  {
   "cell_type": "code",
   "execution_count": null,
   "id": "c167c5bb",
   "metadata": {},
   "outputs": [],
   "source": []
  },
  {
   "cell_type": "code",
   "execution_count": null,
   "id": "285b5bd6",
   "metadata": {},
   "outputs": [],
   "source": []
  }
 ],
 "metadata": {
  "kernelspec": {
   "display_name": "Python 3 (ipykernel)",
   "language": "python",
   "name": "python3"
  },
  "language_info": {
   "codemirror_mode": {
    "name": "ipython",
    "version": 3
   },
   "file_extension": ".py",
   "mimetype": "text/x-python",
   "name": "python",
   "nbconvert_exporter": "python",
   "pygments_lexer": "ipython3",
   "version": "3.11.7"
  }
 },
 "nbformat": 4,
 "nbformat_minor": 5
}
