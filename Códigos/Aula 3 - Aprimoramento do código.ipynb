{
 "cells": [
  {
   "cell_type": "code",
   "execution_count": 22,
   "id": "5d7a77a0-f994-45d9-8986-c890588178f6",
   "metadata": {},
   "outputs": [
    {
     "name": "stdout",
     "output_type": "stream",
     "text": [
      "\n",
      "Grupo A:\n",
      "Média: 5\n",
      "Mediana: 5\n",
      "Moda: 3\n",
      "Desvio Padrão: 1.5811388300841898\n",
      "Variância: 2.5\n",
      "\n",
      "Grupo B:\n",
      "Média: 5\n",
      "Mediana: 5\n",
      "Moda: 1\n",
      "Desvio Padrão: 3.1622776601683795\n",
      "Variância: 10\n",
      "\n",
      "Grupo C:\n",
      "Média: 5\n",
      "Mediana: 5\n",
      "Moda: 5\n",
      "Desvio Padrão: 0.0\n",
      "Variância: 0\n",
      "\n",
      "Grupo D:\n",
      "Média: 5\n",
      "Mediana: 5\n",
      "Moda: 5\n",
      "Desvio Padrão: 1.4142135623730951\n",
      "Variância: 2\n",
      "\n",
      "Grupo E:\n",
      "Média: 5\n",
      "Mediana: 5\n",
      "Moda: 5\n",
      "Desvio Padrão: 1.224744871391589\n",
      "Variância: 1.5\n"
     ]
    }
   ],
   "source": [
    "import statistics\n",
    "\n",
    "# Dados dos grupos\n",
    "grupos_dados = {\n",
    "    'A': [3, 4, 5, 6, 7],\n",
    "    'B': [1, 3, 5, 7, 9],\n",
    "    'C': [5, 5, 5, 5, 5],\n",
    "    'D': [3, 5, 5, 5, 7],\n",
    "    'E': [3, 5, 5, 6, 6]\n",
    "}\n",
    "\n",
    "# Nomes dos grupos\n",
    "nomes_grupos = ['A', 'B', 'C', 'D', 'E']\n",
    "\n",
    "# Métodos estatísticos\n",
    "metodos = [statistics.mean, statistics.median, statistics.mode, statistics.stdev, statistics.variance]\n",
    "\n",
    "# Nomes dos métodos\n",
    "nomes_estatisticas = ['Média', 'Mediana', 'Moda', 'Desvio Padrão', 'Variância']\n",
    "\n",
    "# Iteração sobre os grupos e os métodos\n",
    "for nome_grupo in nomes_grupos:\n",
    "    print(f\"\\nGrupo {nome_grupo}:\")\n",
    "    dados = grupos_dados[nome_grupo]\n",
    "    for nome_estatistica, metodo in zip(nomes_estatisticas, metodos):\n",
    "        resultado = metodo(dados)\n",
    "        print(f\"{nome_estatistica}: {resultado}\")\n"
   ]
  },
  {
   "cell_type": "code",
   "execution_count": null,
   "id": "4a2f7226-ddc6-4324-a3f7-ee9cb4f85f3c",
   "metadata": {},
   "outputs": [],
   "source": []
  }
 ],
 "metadata": {
  "kernelspec": {
   "display_name": "Python 3 (ipykernel)",
   "language": "python",
   "name": "python3"
  },
  "language_info": {
   "codemirror_mode": {
    "name": "ipython",
    "version": 3
   },
   "file_extension": ".py",
   "mimetype": "text/x-python",
   "name": "python",
   "nbconvert_exporter": "python",
   "pygments_lexer": "ipython3",
   "version": "3.11.7"
  }
 },
 "nbformat": 4,
 "nbformat_minor": 5
}
