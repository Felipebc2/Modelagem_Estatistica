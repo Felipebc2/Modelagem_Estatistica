{
 "cells": [
  {
   "cell_type": "code",
   "execution_count": 1,
   "id": "73f4ba14-49da-477f-bd83-6e811aaa9a73",
   "metadata": {},
   "outputs": [
    {
     "name": "stdout",
     "output_type": "stream",
     "text": [
      "Effectiveness: 4.0x\n"
     ]
    }
   ],
   "source": [
    "# Define the type effectiveness chart\n",
    "type_chart = {\n",
    "    'Normal':    {'Rock': 0.5, 'Ghost': 0, 'Steel': 0.5},\n",
    "    'Fire':      {'Fire': 0.5, 'Water': 0.5, 'Grass': 2, 'Ice': 2, 'Bug': 2, 'Rock': 0.5, 'Dragon': 0.5, 'Steel': 2},\n",
    "    'Water':     {'Fire': 2, 'Water': 0.5, 'Grass': 0.5, 'Ground': 2, 'Rock': 2, 'Dragon': 0.5},\n",
    "    'Electric':  {'Water': 2, 'Electric': 0.5, 'Grass': 0.5, 'Ground': 0, 'Flying': 2, 'Dragon': 0.5},\n",
    "    'Grass':     {'Fire': 0.5, 'Water': 2, 'Grass': 0.5, 'Poison': 0.5, 'Ground': 2, 'Flying': 0.5, 'Bug': 0.5, 'Rock': 2, 'Dragon': 0.5, 'Steel': 0.5},\n",
    "    'Ice':       {'Fire': 0.5, 'Water': 0.5, 'Ice': 0.5, 'Ground': 2, 'Flying': 2, 'Grass': 2, 'Dragon': 2, 'Steel': 0.5},\n",
    "    'Fighting':  {'Normal': 2, 'Ice': 2, 'Poison': 0.5, 'Flying': 0.5, 'Psychic': 0.5, 'Bug': 0.5, 'Rock': 2, 'Ghost': 0, 'Dark': 2, 'Steel': 2, 'Fairy': 0.5},\n",
    "    'Poison':    {'Grass': 2, 'Poison': 0.5, 'Ground': 0.5, 'Rock': 0.5, 'Ghost': 0.5, 'Steel': 0, 'Fairy': 2},\n",
    "    'Ground':    {'Fire': 2, 'Electric': 2, 'Grass': 0.5, 'Poison': 2, 'Flying': 0, 'Bug': 0.5, 'Rock': 2, 'Steel': 2},\n",
    "    'Flying':    {'Electric': 0.5, 'Grass': 2, 'Fighting': 2, 'Bug': 2, 'Rock': 0.5, 'Steel': 0.5},\n",
    "    'Psychic':   {'Fighting': 2, 'Poison': 2, 'Psychic': 0.5, 'Dark': 0, 'Steel': 0.5},\n",
    "    'Bug':       {'Fire': 0.5, 'Grass': 2, 'Fighting': 0.5, 'Poison': 0.5, 'Flying': 0.5, 'Psychic': 2, 'Ghost': 0.5, 'Dark': 2, 'Steel': 0.5, 'Fairy': 0.5},\n",
    "    'Rock':      {'Fire': 2, 'Ice': 2, 'Fighting': 0.5, 'Ground': 0.5, 'Flying': 2, 'Bug': 2, 'Steel': 0.5},\n",
    "    'Ghost':     {'Normal': 0, 'Psychic': 2, 'Ghost': 2, 'Dark': 0.5},\n",
    "    'Dragon':    {'Dragon': 2, 'Steel': 0.5, 'Fairy': 0},\n",
    "    'Dark':      {'Fighting': 0.5, 'Psychic': 2, 'Ghost': 2, 'Dark': 0.5, 'Fairy': 0.5},\n",
    "    'Steel':     {'Fire': 0.5, 'Water': 0.5, 'Electric': 0.5, 'Ice': 2, 'Rock': 2, 'Steel': 0.5, 'Fairy': 2},\n",
    "    'Fairy':     {'Fighting': 2, 'Poison': 0.5, 'Steel': 0.5, 'Dragon': 2, 'Dark': 2}\n",
    "}\n",
    "\n",
    "def get_effectiveness(attacking_type, defending_type):\n",
    "    # Get effectiveness of attacking type against the defending type\n",
    "    if attacking_type in type_chart and defending_type in type_chart[attacking_type]:\n",
    "        return type_chart[attacking_type][defending_type]\n",
    "    else:\n",
    "        return 1  # Neutral effectiveness\n",
    "\n",
    "def main(attacker_type1, attacker_type2, defender_type1, defender_type2):\n",
    "    # Check effectiveness of each attacking type against each defending type\n",
    "    effectiveness = []\n",
    "    \n",
    "    for attacker in (attacker_type1, attacker_type2):\n",
    "        for defender in (defender_type1, defender_type2):\n",
    "            if attacker and defender:  # Ensure that types are valid\n",
    "                effectiveness.append(get_effectiveness(attacker, defender))\n",
    "\n",
    "    # Calculate overall effectiveness\n",
    "    total_effectiveness = 1\n",
    "    for eff in effectiveness:\n",
    "        total_effectiveness *= eff\n",
    "\n",
    "    return total_effectiveness\n",
    "\n",
    "# Exemplo de uso:\n",
    "attacker_type1 = \"Fire\"\n",
    "attacker_type2 = \"Flying\"\n",
    "defender_type1 = \"Grass\"\n",
    "defender_type2 = \"Steel\"\n",
    "\n",
    "effectiveness = main(attacker_type1, attacker_type2, defender_type1, defender_type2)\n",
    "print(f\"Effectiveness: {effectiveness}x\")"
   ]
  },
  {
   "cell_type": "code",
   "execution_count": null,
   "id": "30e2d640-0453-4d05-b8b4-39fe445145ac",
   "metadata": {},
   "outputs": [],
   "source": []
  }
 ],
 "metadata": {
  "kernelspec": {
   "display_name": "Python 3 (ipykernel)",
   "language": "python",
   "name": "python3"
  },
  "language_info": {
   "codemirror_mode": {
    "name": "ipython",
    "version": 3
   },
   "file_extension": ".py",
   "mimetype": "text/x-python",
   "name": "python",
   "nbconvert_exporter": "python",
   "pygments_lexer": "ipython3",
   "version": "3.11.7"
  }
 },
 "nbformat": 4,
 "nbformat_minor": 5
}
